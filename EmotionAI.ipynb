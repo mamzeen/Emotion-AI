{
  "nbformat": 4,
  "nbformat_minor": 0,
  "metadata": {
    "colab": {
      "name": "EmotionAI.ipynb",
      "provenance": [],
      "authorship_tag": "ABX9TyPogj4Cc8ZqKmJLUJiqDSEA",
      "include_colab_link": true
    },
    "kernelspec": {
      "name": "python3",
      "display_name": "Python 3"
    },
    "language_info": {
      "name": "python"
    }
  },
  "cells": [
    {
      "cell_type": "markdown",
      "metadata": {
        "id": "view-in-github",
        "colab_type": "text"
      },
      "source": [
        "<a href=\"https://colab.research.google.com/github/mamzeen/Emotion-AI/blob/main/EmotionAI.ipynb\" target=\"_parent\"><img src=\"https://colab.research.google.com/assets/colab-badge.svg\" alt=\"Open In Colab\"/></a>"
      ]
    },
    {
      "cell_type": "code",
      "execution_count": 1,
      "metadata": {
        "colab": {
          "base_uri": "https://localhost:8080/"
        },
        "id": "61BDirHxwfHV",
        "outputId": "c631c198-1607-4637-d68b-92eb8a71d990"
      },
      "outputs": [
        {
          "output_type": "stream",
          "name": "stdout",
          "text": [
            "Mounted at /content/drive\n"
          ]
        }
      ],
      "source": [
        "#Mount the Drive\n",
        "from google.colab import drive\n",
        "drive.mount('/content/drive')"
      ]
    },
    {
      "cell_type": "code",
      "source": [
        "%cd /content/drive/My Drive/Colab Notebooks/Modern AI Portfolio Builder/Emotion AI Dataset/"
      ],
      "metadata": {
        "colab": {
          "base_uri": "https://localhost:8080/"
        },
        "id": "ymntnTy0EEi6",
        "outputId": "a13d450d-ab43-478f-c0a6-84d797ef31f4"
      },
      "execution_count": 2,
      "outputs": [
        {
          "output_type": "stream",
          "name": "stdout",
          "text": [
            "/content/drive/My Drive/Colab Notebooks/Modern AI Portfolio Builder/Emotion AI Dataset\n"
          ]
        }
      ]
    },
    {
      "cell_type": "code",
      "source": [
        "#Import the necessary packages for the project\n",
        "import pandas as pd\n",
        "import numpy as np\n",
        "import os\n",
        "import PIL\n",
        "import seaborn as sns\n",
        "import pickle\n",
        "from PIL import *\n",
        "import cv2\n",
        "import tensorflow as tf\n",
        "from tensorflow import keras\n",
        "from tensorflow.keras.applications import DenseNet121\n",
        "from tensorflow.keras.models import Model, load_model\n",
        "from tensorflow.keras.initializers import glorot_uniform\n",
        "from tensorflow.keras.utils import plot_model\n",
        "from tensorflow.keras.callbacks import ReduceLROnPlateau, EarlyStopping, ModelCheckpoint, LearningRateScheduler\n",
        "from IPython.display import display\n",
        "from tensorflow.python.keras import *\n",
        "from tensorflow.keras.preprocessing.image import ImageDataGenerator\n",
        "from tensorflow.keras import layers, optimizers\n",
        "from tensorflow.keras.applications.resnet50 import ResNet50\n",
        "from tensorflow.keras.layers import *\n",
        "from tensorflow.keras import backend as K\n",
        "from keras import optimizers\n",
        "import matplotlib.pyplot as plt\n",
        "from sklearn.model_selection import train_test_split\n",
        "from google.colab.patches import cv2_imshow\n",
        "\n"
      ],
      "metadata": {
        "id": "ShgR2NitEuWn"
      },
      "execution_count": 4,
      "outputs": []
    },
    {
      "cell_type": "code",
      "source": [
        "#Load facial key points data\n",
        "facialkey_df = pd.read_csv('/content/drive/My Drive/Colab Notebooks/Modern AI Portfolio Builder/Emotion AI Dataset/data.csv')"
      ],
      "metadata": {
        "id": "tKw55nZSKIHY"
      },
      "execution_count": 6,
      "outputs": []
    },
    {
      "cell_type": "code",
      "source": [
        "facialkey_df.head()"
      ],
      "metadata": {
        "colab": {
          "base_uri": "https://localhost:8080/",
          "height": 1000
        },
        "id": "ftXO-tVgLAda",
        "outputId": "7e199e3d-d70f-4984-bc5a-2f9aae83cbd7"
      },
      "execution_count": 9,
      "outputs": [
        {
          "output_type": "execute_result",
          "data": {
            "text/html": [
              "\n",
              "  <div id=\"df-dcf5a5e8-7920-433b-8a06-be6d5e82edad\">\n",
              "    <div class=\"colab-df-container\">\n",
              "      <div>\n",
              "<style scoped>\n",
              "    .dataframe tbody tr th:only-of-type {\n",
              "        vertical-align: middle;\n",
              "    }\n",
              "\n",
              "    .dataframe tbody tr th {\n",
              "        vertical-align: top;\n",
              "    }\n",
              "\n",
              "    .dataframe thead th {\n",
              "        text-align: right;\n",
              "    }\n",
              "</style>\n",
              "<table border=\"1\" class=\"dataframe\">\n",
              "  <thead>\n",
              "    <tr style=\"text-align: right;\">\n",
              "      <th></th>\n",
              "      <th>left_eye_center_x</th>\n",
              "      <th>left_eye_center_y</th>\n",
              "      <th>right_eye_center_x</th>\n",
              "      <th>right_eye_center_y</th>\n",
              "      <th>left_eye_inner_corner_x</th>\n",
              "      <th>left_eye_inner_corner_y</th>\n",
              "      <th>left_eye_outer_corner_x</th>\n",
              "      <th>left_eye_outer_corner_y</th>\n",
              "      <th>right_eye_inner_corner_x</th>\n",
              "      <th>right_eye_inner_corner_y</th>\n",
              "      <th>right_eye_outer_corner_x</th>\n",
              "      <th>right_eye_outer_corner_y</th>\n",
              "      <th>left_eyebrow_inner_end_x</th>\n",
              "      <th>left_eyebrow_inner_end_y</th>\n",
              "      <th>left_eyebrow_outer_end_x</th>\n",
              "      <th>left_eyebrow_outer_end_y</th>\n",
              "      <th>right_eyebrow_inner_end_x</th>\n",
              "      <th>right_eyebrow_inner_end_y</th>\n",
              "      <th>right_eyebrow_outer_end_x</th>\n",
              "      <th>right_eyebrow_outer_end_y</th>\n",
              "      <th>nose_tip_x</th>\n",
              "      <th>nose_tip_y</th>\n",
              "      <th>mouth_left_corner_x</th>\n",
              "      <th>mouth_left_corner_y</th>\n",
              "      <th>mouth_right_corner_x</th>\n",
              "      <th>mouth_right_corner_y</th>\n",
              "      <th>mouth_center_top_lip_x</th>\n",
              "      <th>mouth_center_top_lip_y</th>\n",
              "      <th>mouth_center_bottom_lip_x</th>\n",
              "      <th>mouth_center_bottom_lip_y</th>\n",
              "      <th>Image</th>\n",
              "    </tr>\n",
              "  </thead>\n",
              "  <tbody>\n",
              "    <tr>\n",
              "      <th>0</th>\n",
              "      <td>66.033564</td>\n",
              "      <td>39.002274</td>\n",
              "      <td>30.227008</td>\n",
              "      <td>36.421678</td>\n",
              "      <td>59.582075</td>\n",
              "      <td>39.647423</td>\n",
              "      <td>73.130346</td>\n",
              "      <td>39.969997</td>\n",
              "      <td>36.356571</td>\n",
              "      <td>37.389402</td>\n",
              "      <td>23.452872</td>\n",
              "      <td>37.389402</td>\n",
              "      <td>56.953263</td>\n",
              "      <td>29.033648</td>\n",
              "      <td>80.227128</td>\n",
              "      <td>32.228138</td>\n",
              "      <td>40.227609</td>\n",
              "      <td>29.002322</td>\n",
              "      <td>16.356379</td>\n",
              "      <td>29.647471</td>\n",
              "      <td>44.420571</td>\n",
              "      <td>57.066803</td>\n",
              "      <td>61.195308</td>\n",
              "      <td>79.970165</td>\n",
              "      <td>28.614496</td>\n",
              "      <td>77.388992</td>\n",
              "      <td>43.312602</td>\n",
              "      <td>72.935459</td>\n",
              "      <td>43.130707</td>\n",
              "      <td>84.485774</td>\n",
              "      <td>238 236 237 238 240 240 239 241 241 243 240 23...</td>\n",
              "    </tr>\n",
              "    <tr>\n",
              "      <th>1</th>\n",
              "      <td>64.332936</td>\n",
              "      <td>34.970077</td>\n",
              "      <td>29.949277</td>\n",
              "      <td>33.448715</td>\n",
              "      <td>58.856170</td>\n",
              "      <td>35.274349</td>\n",
              "      <td>70.722723</td>\n",
              "      <td>36.187166</td>\n",
              "      <td>36.034723</td>\n",
              "      <td>34.361532</td>\n",
              "      <td>24.472511</td>\n",
              "      <td>33.144443</td>\n",
              "      <td>53.987404</td>\n",
              "      <td>28.275949</td>\n",
              "      <td>78.634213</td>\n",
              "      <td>30.405923</td>\n",
              "      <td>42.728851</td>\n",
              "      <td>26.146043</td>\n",
              "      <td>16.865362</td>\n",
              "      <td>27.058860</td>\n",
              "      <td>48.206298</td>\n",
              "      <td>55.660936</td>\n",
              "      <td>56.421447</td>\n",
              "      <td>76.352000</td>\n",
              "      <td>35.122383</td>\n",
              "      <td>76.047660</td>\n",
              "      <td>46.684596</td>\n",
              "      <td>70.266553</td>\n",
              "      <td>45.467915</td>\n",
              "      <td>85.480170</td>\n",
              "      <td>219 215 204 196 204 211 212 200 180 168 178 19...</td>\n",
              "    </tr>\n",
              "    <tr>\n",
              "      <th>2</th>\n",
              "      <td>65.057053</td>\n",
              "      <td>34.909642</td>\n",
              "      <td>30.903789</td>\n",
              "      <td>34.909642</td>\n",
              "      <td>59.412000</td>\n",
              "      <td>36.320968</td>\n",
              "      <td>70.984421</td>\n",
              "      <td>36.320968</td>\n",
              "      <td>37.678105</td>\n",
              "      <td>36.320968</td>\n",
              "      <td>24.976421</td>\n",
              "      <td>36.603221</td>\n",
              "      <td>55.742526</td>\n",
              "      <td>27.570947</td>\n",
              "      <td>78.887368</td>\n",
              "      <td>32.651621</td>\n",
              "      <td>42.193895</td>\n",
              "      <td>28.135453</td>\n",
              "      <td>16.791158</td>\n",
              "      <td>32.087116</td>\n",
              "      <td>47.557263</td>\n",
              "      <td>53.538947</td>\n",
              "      <td>60.822947</td>\n",
              "      <td>73.014316</td>\n",
              "      <td>33.726316</td>\n",
              "      <td>72.732000</td>\n",
              "      <td>47.274947</td>\n",
              "      <td>70.191789</td>\n",
              "      <td>47.274947</td>\n",
              "      <td>78.659368</td>\n",
              "      <td>144 142 159 180 188 188 184 180 167 132 84 59 ...</td>\n",
              "    </tr>\n",
              "    <tr>\n",
              "      <th>3</th>\n",
              "      <td>65.225739</td>\n",
              "      <td>37.261774</td>\n",
              "      <td>32.023096</td>\n",
              "      <td>37.261774</td>\n",
              "      <td>60.003339</td>\n",
              "      <td>39.127179</td>\n",
              "      <td>72.314713</td>\n",
              "      <td>38.380967</td>\n",
              "      <td>37.618643</td>\n",
              "      <td>38.754115</td>\n",
              "      <td>25.307270</td>\n",
              "      <td>38.007903</td>\n",
              "      <td>56.433809</td>\n",
              "      <td>30.929864</td>\n",
              "      <td>77.910261</td>\n",
              "      <td>31.665725</td>\n",
              "      <td>41.671513</td>\n",
              "      <td>31.049990</td>\n",
              "      <td>20.458017</td>\n",
              "      <td>29.909343</td>\n",
              "      <td>51.885078</td>\n",
              "      <td>54.166539</td>\n",
              "      <td>65.598887</td>\n",
              "      <td>72.703722</td>\n",
              "      <td>37.245496</td>\n",
              "      <td>74.195478</td>\n",
              "      <td>50.303165</td>\n",
              "      <td>70.091687</td>\n",
              "      <td>51.561183</td>\n",
              "      <td>78.268383</td>\n",
              "      <td>193 192 193 194 194 194 193 192 168 111 50 12 ...</td>\n",
              "    </tr>\n",
              "    <tr>\n",
              "      <th>4</th>\n",
              "      <td>66.725301</td>\n",
              "      <td>39.621261</td>\n",
              "      <td>32.244810</td>\n",
              "      <td>38.042032</td>\n",
              "      <td>58.565890</td>\n",
              "      <td>39.621261</td>\n",
              "      <td>72.515926</td>\n",
              "      <td>39.884466</td>\n",
              "      <td>36.982380</td>\n",
              "      <td>39.094852</td>\n",
              "      <td>22.506110</td>\n",
              "      <td>38.305237</td>\n",
              "      <td>57.249571</td>\n",
              "      <td>30.672177</td>\n",
              "      <td>77.762945</td>\n",
              "      <td>31.737247</td>\n",
              "      <td>38.035436</td>\n",
              "      <td>30.935382</td>\n",
              "      <td>15.925870</td>\n",
              "      <td>30.672177</td>\n",
              "      <td>43.299534</td>\n",
              "      <td>64.889521</td>\n",
              "      <td>60.671411</td>\n",
              "      <td>77.523239</td>\n",
              "      <td>31.191755</td>\n",
              "      <td>76.997301</td>\n",
              "      <td>44.962748</td>\n",
              "      <td>73.707387</td>\n",
              "      <td>44.227141</td>\n",
              "      <td>86.871166</td>\n",
              "      <td>147 148 160 196 215 214 216 217 219 220 206 18...</td>\n",
              "    </tr>\n",
              "  </tbody>\n",
              "</table>\n",
              "</div>\n",
              "      <button class=\"colab-df-convert\" onclick=\"convertToInteractive('df-dcf5a5e8-7920-433b-8a06-be6d5e82edad')\"\n",
              "              title=\"Convert this dataframe to an interactive table.\"\n",
              "              style=\"display:none;\">\n",
              "        \n",
              "  <svg xmlns=\"http://www.w3.org/2000/svg\" height=\"24px\"viewBox=\"0 0 24 24\"\n",
              "       width=\"24px\">\n",
              "    <path d=\"M0 0h24v24H0V0z\" fill=\"none\"/>\n",
              "    <path d=\"M18.56 5.44l.94 2.06.94-2.06 2.06-.94-2.06-.94-.94-2.06-.94 2.06-2.06.94zm-11 1L8.5 8.5l.94-2.06 2.06-.94-2.06-.94L8.5 2.5l-.94 2.06-2.06.94zm10 10l.94 2.06.94-2.06 2.06-.94-2.06-.94-.94-2.06-.94 2.06-2.06.94z\"/><path d=\"M17.41 7.96l-1.37-1.37c-.4-.4-.92-.59-1.43-.59-.52 0-1.04.2-1.43.59L10.3 9.45l-7.72 7.72c-.78.78-.78 2.05 0 2.83L4 21.41c.39.39.9.59 1.41.59.51 0 1.02-.2 1.41-.59l7.78-7.78 2.81-2.81c.8-.78.8-2.07 0-2.86zM5.41 20L4 18.59l7.72-7.72 1.47 1.35L5.41 20z\"/>\n",
              "  </svg>\n",
              "      </button>\n",
              "      \n",
              "  <style>\n",
              "    .colab-df-container {\n",
              "      display:flex;\n",
              "      flex-wrap:wrap;\n",
              "      gap: 12px;\n",
              "    }\n",
              "\n",
              "    .colab-df-convert {\n",
              "      background-color: #E8F0FE;\n",
              "      border: none;\n",
              "      border-radius: 50%;\n",
              "      cursor: pointer;\n",
              "      display: none;\n",
              "      fill: #1967D2;\n",
              "      height: 32px;\n",
              "      padding: 0 0 0 0;\n",
              "      width: 32px;\n",
              "    }\n",
              "\n",
              "    .colab-df-convert:hover {\n",
              "      background-color: #E2EBFA;\n",
              "      box-shadow: 0px 1px 2px rgba(60, 64, 67, 0.3), 0px 1px 3px 1px rgba(60, 64, 67, 0.15);\n",
              "      fill: #174EA6;\n",
              "    }\n",
              "\n",
              "    [theme=dark] .colab-df-convert {\n",
              "      background-color: #3B4455;\n",
              "      fill: #D2E3FC;\n",
              "    }\n",
              "\n",
              "    [theme=dark] .colab-df-convert:hover {\n",
              "      background-color: #434B5C;\n",
              "      box-shadow: 0px 1px 3px 1px rgba(0, 0, 0, 0.15);\n",
              "      filter: drop-shadow(0px 1px 2px rgba(0, 0, 0, 0.3));\n",
              "      fill: #FFFFFF;\n",
              "    }\n",
              "  </style>\n",
              "\n",
              "      <script>\n",
              "        const buttonEl =\n",
              "          document.querySelector('#df-dcf5a5e8-7920-433b-8a06-be6d5e82edad button.colab-df-convert');\n",
              "        buttonEl.style.display =\n",
              "          google.colab.kernel.accessAllowed ? 'block' : 'none';\n",
              "\n",
              "        async function convertToInteractive(key) {\n",
              "          const element = document.querySelector('#df-dcf5a5e8-7920-433b-8a06-be6d5e82edad');\n",
              "          const dataTable =\n",
              "            await google.colab.kernel.invokeFunction('convertToInteractive',\n",
              "                                                     [key], {});\n",
              "          if (!dataTable) return;\n",
              "\n",
              "          const docLinkHtml = 'Like what you see? Visit the ' +\n",
              "            '<a target=\"_blank\" href=https://colab.research.google.com/notebooks/data_table.ipynb>data table notebook</a>'\n",
              "            + ' to learn more about interactive tables.';\n",
              "          element.innerHTML = '';\n",
              "          dataTable['output_type'] = 'display_data';\n",
              "          await google.colab.output.renderOutput(dataTable, element);\n",
              "          const docLink = document.createElement('div');\n",
              "          docLink.innerHTML = docLinkHtml;\n",
              "          element.appendChild(docLink);\n",
              "        }\n",
              "      </script>\n",
              "    </div>\n",
              "  </div>\n",
              "  "
            ],
            "text/plain": [
              "   left_eye_center_x  ...                                              Image\n",
              "0          66.033564  ...  238 236 237 238 240 240 239 241 241 243 240 23...\n",
              "1          64.332936  ...  219 215 204 196 204 211 212 200 180 168 178 19...\n",
              "2          65.057053  ...  144 142 159 180 188 188 184 180 167 132 84 59 ...\n",
              "3          65.225739  ...  193 192 193 194 194 194 193 192 168 111 50 12 ...\n",
              "4          66.725301  ...  147 148 160 196 215 214 216 217 219 220 206 18...\n",
              "\n",
              "[5 rows x 31 columns]"
            ]
          },
          "metadata": {},
          "execution_count": 9
        }
      ]
    },
    {
      "cell_type": "code",
      "source": [
        "#Let's get vital information about the DataFrame\n",
        "facialkey_df.info()"
      ],
      "metadata": {
        "colab": {
          "base_uri": "https://localhost:8080/"
        },
        "id": "OcSedEekMBdQ",
        "outputId": "3cbdcaf3-481a-4a6a-8730-5f39ce7964b9"
      },
      "execution_count": 10,
      "outputs": [
        {
          "output_type": "stream",
          "name": "stdout",
          "text": [
            "<class 'pandas.core.frame.DataFrame'>\n",
            "RangeIndex: 2140 entries, 0 to 2139\n",
            "Data columns (total 31 columns):\n",
            " #   Column                     Non-Null Count  Dtype  \n",
            "---  ------                     --------------  -----  \n",
            " 0   left_eye_center_x          2140 non-null   float64\n",
            " 1   left_eye_center_y          2140 non-null   float64\n",
            " 2   right_eye_center_x         2140 non-null   float64\n",
            " 3   right_eye_center_y         2140 non-null   float64\n",
            " 4   left_eye_inner_corner_x    2140 non-null   float64\n",
            " 5   left_eye_inner_corner_y    2140 non-null   float64\n",
            " 6   left_eye_outer_corner_x    2140 non-null   float64\n",
            " 7   left_eye_outer_corner_y    2140 non-null   float64\n",
            " 8   right_eye_inner_corner_x   2140 non-null   float64\n",
            " 9   right_eye_inner_corner_y   2140 non-null   float64\n",
            " 10  right_eye_outer_corner_x   2140 non-null   float64\n",
            " 11  right_eye_outer_corner_y   2140 non-null   float64\n",
            " 12  left_eyebrow_inner_end_x   2140 non-null   float64\n",
            " 13  left_eyebrow_inner_end_y   2140 non-null   float64\n",
            " 14  left_eyebrow_outer_end_x   2140 non-null   float64\n",
            " 15  left_eyebrow_outer_end_y   2140 non-null   float64\n",
            " 16  right_eyebrow_inner_end_x  2140 non-null   float64\n",
            " 17  right_eyebrow_inner_end_y  2140 non-null   float64\n",
            " 18  right_eyebrow_outer_end_x  2140 non-null   float64\n",
            " 19  right_eyebrow_outer_end_y  2140 non-null   float64\n",
            " 20  nose_tip_x                 2140 non-null   float64\n",
            " 21  nose_tip_y                 2140 non-null   float64\n",
            " 22  mouth_left_corner_x        2140 non-null   float64\n",
            " 23  mouth_left_corner_y        2140 non-null   float64\n",
            " 24  mouth_right_corner_x       2140 non-null   float64\n",
            " 25  mouth_right_corner_y       2140 non-null   float64\n",
            " 26  mouth_center_top_lip_x     2140 non-null   float64\n",
            " 27  mouth_center_top_lip_y     2140 non-null   float64\n",
            " 28  mouth_center_bottom_lip_x  2140 non-null   float64\n",
            " 29  mouth_center_bottom_lip_y  2140 non-null   float64\n",
            " 30  Image                      2140 non-null   object \n",
            "dtypes: float64(30), object(1)\n",
            "memory usage: 518.4+ KB\n"
          ]
        }
      ]
    },
    {
      "cell_type": "code",
      "source": [
        "#Let's verify if null values exist in the DataFrame\n",
        "facialkey_df.isnull().sum()"
      ],
      "metadata": {
        "colab": {
          "base_uri": "https://localhost:8080/"
        },
        "id": "QCvrJmXBNx3s",
        "outputId": "9c1c03d9-53ae-4e4b-b336-55d65e76e5a3"
      },
      "execution_count": 12,
      "outputs": [
        {
          "output_type": "execute_result",
          "data": {
            "text/plain": [
              "left_eye_center_x            0\n",
              "left_eye_center_y            0\n",
              "right_eye_center_x           0\n",
              "right_eye_center_y           0\n",
              "left_eye_inner_corner_x      0\n",
              "left_eye_inner_corner_y      0\n",
              "left_eye_outer_corner_x      0\n",
              "left_eye_outer_corner_y      0\n",
              "right_eye_inner_corner_x     0\n",
              "right_eye_inner_corner_y     0\n",
              "right_eye_outer_corner_x     0\n",
              "right_eye_outer_corner_y     0\n",
              "left_eyebrow_inner_end_x     0\n",
              "left_eyebrow_inner_end_y     0\n",
              "left_eyebrow_outer_end_x     0\n",
              "left_eyebrow_outer_end_y     0\n",
              "right_eyebrow_inner_end_x    0\n",
              "right_eyebrow_inner_end_y    0\n",
              "right_eyebrow_outer_end_x    0\n",
              "right_eyebrow_outer_end_y    0\n",
              "nose_tip_x                   0\n",
              "nose_tip_y                   0\n",
              "mouth_left_corner_x          0\n",
              "mouth_left_corner_y          0\n",
              "mouth_right_corner_x         0\n",
              "mouth_right_corner_y         0\n",
              "mouth_center_top_lip_x       0\n",
              "mouth_center_top_lip_y       0\n",
              "mouth_center_bottom_lip_x    0\n",
              "mouth_center_bottom_lip_y    0\n",
              "Image                        0\n",
              "dtype: int64"
            ]
          },
          "metadata": {},
          "execution_count": 12
        }
      ]
    },
    {
      "cell_type": "code",
      "source": [
        "#Let's check the shape of the images\n",
        "facialkey_df['Image'].shape"
      ],
      "metadata": {
        "colab": {
          "base_uri": "https://localhost:8080/"
        },
        "id": "Ubg9vEHZOgLo",
        "outputId": "9425a171-71fc-4039-c418-9ace492adf4a"
      },
      "execution_count": 24,
      "outputs": [
        {
          "output_type": "execute_result",
          "data": {
            "text/plain": [
              "(2140,)"
            ]
          },
          "metadata": {},
          "execution_count": 24
        }
      ]
    },
    {
      "cell_type": "code",
      "source": [
        "#Convert image into a 2D array with shape of (96, 96)\n",
        "facialkey_df['Image'] = facialkey_df['Image'].apply(lambda x: np.fromstring(x, dtype=int, sep=' ').reshape(96, 96))"
      ],
      "metadata": {
        "id": "9lsyZWX_U-4u"
      },
      "execution_count": 21,
      "outputs": []
    },
    {
      "cell_type": "code",
      "source": [
        "#Let's check the shape of the reshaped image by checking the any row\n",
        "facialkey_df['Image'][3].shape"
      ],
      "metadata": {
        "colab": {
          "base_uri": "https://localhost:8080/"
        },
        "id": "IurnhS1IXqrW",
        "outputId": "4ceffdb1-0ae6-457f-f4ae-c014ff828692"
      },
      "execution_count": 22,
      "outputs": [
        {
          "output_type": "execute_result",
          "data": {
            "text/plain": [
              "(96, 96)"
            ]
          },
          "metadata": {},
          "execution_count": 22
        }
      ]
    },
    {
      "cell_type": "code",
      "source": [
        "#Obtain the average, minimum and maximum values for the \"right_eye_center_x\"\n",
        "facialkey_df['right_eye_center_x'].describe()"
      ],
      "metadata": {
        "colab": {
          "base_uri": "https://localhost:8080/"
        },
        "id": "p7TDHOInYsbN",
        "outputId": "af491fd7-0c13-4412-d9fa-96d5c49cca01"
      },
      "execution_count": 26,
      "outputs": [
        {
          "output_type": "execute_result",
          "data": {
            "text/plain": [
              "count    2140.000000\n",
              "mean       29.640269\n",
              "std         2.051575\n",
              "min        18.922611\n",
              "25%        28.472224\n",
              "50%        29.655440\n",
              "75%        30.858673\n",
              "max        42.495172\n",
              "Name: right_eye_center_x, dtype: float64"
            ]
          },
          "metadata": {},
          "execution_count": 26
        }
      ]
    },
    {
      "cell_type": "code",
      "source": [
        ""
      ],
      "metadata": {
        "id": "8aFAH7B3Yxu3"
      },
      "execution_count": null,
      "outputs": []
    }
  ]
}